{
 "cells": [
  {
   "cell_type": "code",
   "execution_count": 1,
   "id": "c6380238",
   "metadata": {},
   "outputs": [],
   "source": [
    "import pandas as pd                 # Library used for exporting wikipedia data in Dataframe format and filtering operations.\n",
    "import matplotlib.pyplot as plt     # Library used for plotting."
   ]
  },
  {
   "cell_type": "code",
   "execution_count": 314,
   "id": "0c5548c3",
   "metadata": {},
   "outputs": [
    {
     "name": "stdout",
     "output_type": "stream",
     "text": [
      "19\n"
     ]
    }
   ],
   "source": [
    "wiki_link = \"https://en.wikipedia.org/wiki/Comparison_of_mobile_operating_systems\"\n",
    "\n",
    "\n",
    "# Gather data from html\n",
    "all_tables = pd.read_html(wiki_link, index_col=0)\n",
    "\n",
    "# Tables needed in this assignment\n",
    "about_OS_index, sound_and_voice_index = 0, 15\n",
    "\n",
    "# Total tables\n",
    "print(len(all_tables))"
   ]
  },
  {
   "cell_type": "code",
   "execution_count": 315,
   "id": "145594fb",
   "metadata": {},
   "outputs": [
    {
     "name": "stdout",
     "output_type": "stream",
     "text": [
      "Index(['Android', 'iOS', 'Tizen', 'Sailfish OS', 'Ubuntu Touch', 'Mobian[1]',\n",
      "       'Plasma Mobile', 'PureOS', 'PostmarketOS', 'KaiOS', 'HarmonyOS'],\n",
      "      dtype='object')\n",
      "Index(['Android', 'iOS', 'Tizen', 'Sailfish OS', 'Ubuntu Touch', 'HarmonyOS'], dtype='object')\n"
     ]
    }
   ],
   "source": [
    "about_OS = all_tables[about_OS_index]\n",
    "sound_and_voice = all_tables[sound_and_voice_index]\n",
    "print(about_OS.columns)\n",
    "print(sound_and_voice.columns)"
   ]
  },
  {
   "cell_type": "code",
   "execution_count": 316,
   "id": "c82fee7e",
   "metadata": {},
   "outputs": [],
   "source": [
    "about_OS = about_OS[['Android', 'iOS', 'Tizen', 'Sailfish OS', 'Ubuntu Touch', 'HarmonyOS']]"
   ]
  },
  {
   "cell_type": "code",
   "execution_count": 317,
   "id": "0b99d0d3",
   "metadata": {},
   "outputs": [
    {
     "name": "stdout",
     "output_type": "stream",
     "text": [
      "Index(['Android', 'iOS', 'Tizen', 'Sailfish OS', 'Ubuntu Touch', 'HarmonyOS'], dtype='object')\n",
      "Index(['Android', 'iOS', 'Tizen', 'Sailfish OS', 'Ubuntu Touch', 'HarmonyOS'], dtype='object')\n"
     ]
    }
   ],
   "source": [
    "print(about_OS.columns)\n",
    "print(sound_and_voice.columns)"
   ]
  },
  {
   "cell_type": "code",
   "execution_count": 318,
   "id": "406e2733",
   "metadata": {},
   "outputs": [
    {
     "data": {
      "text/html": [
       "<div>\n",
       "<style scoped>\n",
       "    .dataframe tbody tr th:only-of-type {\n",
       "        vertical-align: middle;\n",
       "    }\n",
       "\n",
       "    .dataframe tbody tr th {\n",
       "        vertical-align: top;\n",
       "    }\n",
       "\n",
       "    .dataframe thead th {\n",
       "        text-align: right;\n",
       "    }\n",
       "</style>\n",
       "<table border=\"1\" class=\"dataframe\">\n",
       "  <thead>\n",
       "    <tr style=\"text-align: right;\">\n",
       "      <th></th>\n",
       "      <th>Android</th>\n",
       "      <th>iOS</th>\n",
       "      <th>Tizen</th>\n",
       "      <th>Sailfish OS</th>\n",
       "      <th>Ubuntu Touch</th>\n",
       "      <th>HarmonyOS</th>\n",
       "    </tr>\n",
       "    <tr>\n",
       "      <th>Feature</th>\n",
       "      <th></th>\n",
       "      <th></th>\n",
       "      <th></th>\n",
       "      <th></th>\n",
       "      <th></th>\n",
       "      <th></th>\n",
       "    </tr>\n",
       "  </thead>\n",
       "  <tbody>\n",
       "    <tr>\n",
       "      <th>Developed by</th>\n",
       "      <td>Google, Open Handset Alliance</td>\n",
       "      <td>Apple Inc.</td>\n",
       "      <td>Linux Foundation, Tizen Association, Samsung, ...</td>\n",
       "      <td>Sailfish Alliance, Mer, Jolla and Sailfish com...</td>\n",
       "      <td>UBports and Ubuntu community contributors (pre...</td>\n",
       "      <td>Huawei</td>\n",
       "    </tr>\n",
       "    <tr>\n",
       "      <th>Market share[2][3]</th>\n",
       "      <td>71.90%</td>\n",
       "      <td>27.33%</td>\n",
       "      <td>0.22%</td>\n",
       "      <td>NaN</td>\n",
       "      <td>NaN</td>\n",
       "      <td>4%</td>\n",
       "    </tr>\n",
       "    <tr>\n",
       "      <th>License</th>\n",
       "      <td>Base system is free and open-source, but pract...</td>\n",
       "      <td>Proprietary, open source kernel and core</td>\n",
       "      <td>Partial; both proprietary and open-source comp...</td>\n",
       "      <td>Free and open-source, but the UI and the SDK a...</td>\n",
       "      <td>Free and open-source, mainly the GPL[6]</td>\n",
       "      <td>Proprietary except for open-source components</td>\n",
       "    </tr>\n",
       "    <tr>\n",
       "      <th>Current version</th>\n",
       "      <td>13</td>\n",
       "      <td>16.0</td>\n",
       "      <td>4.0.0.7</td>\n",
       "      <td>4.3.0.15</td>\n",
       "      <td>16.04 OTA-22</td>\n",
       "      <td>3.0.0.76</td>\n",
       "    </tr>\n",
       "    <tr>\n",
       "      <th>Development version</th>\n",
       "      <td>14</td>\n",
       "      <td>16.1</td>\n",
       "      <td>6.0 M2</td>\n",
       "      <td>Unknown</td>\n",
       "      <td>Unknown</td>\n",
       "      <td>3.0.0</td>\n",
       "    </tr>\n",
       "    <tr>\n",
       "      <th>Current version release dates</th>\n",
       "      <td>August 15, 2022; 5 months ago</td>\n",
       "      <td>September 12, 2022; 4 months ago</td>\n",
       "      <td>May 30, 2020; 2 years ago[7]</td>\n",
       "      <td>February 16, 2022; 11 months ago[8]</td>\n",
       "      <td>February 18, 2022; 11 months ago</td>\n",
       "      <td>July 27, 2022; 6 months ago</td>\n",
       "    </tr>\n",
       "    <tr>\n",
       "      <th>OS family</th>\n",
       "      <td>Modified Linux kernel based</td>\n",
       "      <td>Darwin</td>\n",
       "      <td>Linux (based on a combination of Linux MeeGo a...</td>\n",
       "      <td>Linux</td>\n",
       "      <td>Linux (based on Ubuntu)</td>\n",
       "      <td>Unix-like (based on Linux kernel multi-kernel ...</td>\n",
       "    </tr>\n",
       "    <tr>\n",
       "      <th>Supported CPU architecture</th>\n",
       "      <td>ARM (32-bit ARMv7-A and 64-bit ARMv8-A only), ...</td>\n",
       "      <td>64-bit ARMv8-A only</td>\n",
       "      <td>ARM, x86, x86-64</td>\n",
       "      <td>ARM, x86-64</td>\n",
       "      <td>ARM, x86-64</td>\n",
       "      <td>64-bit ARM, x86, x86-64</td>\n",
       "    </tr>\n",
       "    <tr>\n",
       "      <th>Programmed in</th>\n",
       "      <td>C, C++, Java, Kotlin</td>\n",
       "      <td>C, C++, Objective-C, Swift</td>\n",
       "      <td>C++, Xamarin.Forms (.NET C#, F#, VB[10])</td>\n",
       "      <td>C++, QML, Python</td>\n",
       "      <td>Apps: HTML5, QML, Go, JavaScript, C++ System: ...</td>\n",
       "      <td>C, C++, Java (until HMOS 3.0),JavaScript, eTS ...</td>\n",
       "    </tr>\n",
       "    <tr>\n",
       "      <th>Public issues list</th>\n",
       "      <td>Yes[12]</td>\n",
       "      <td>3rd party[13]</td>\n",
       "      <td>Yes[14]</td>\n",
       "      <td>Yes[15]</td>\n",
       "      <td>Yes[16]</td>\n",
       "      <td>Yes[20]</td>\n",
       "    </tr>\n",
       "    <tr>\n",
       "      <th>DRM-free[21]</th>\n",
       "      <td>No[22] since Android 4.1[23] and Android 4.3[2...</td>\n",
       "      <td>No – FairPlay</td>\n",
       "      <td>Yes</td>\n",
       "      <td>Yes</td>\n",
       "      <td>Yes</td>\n",
       "      <td>No – Huawei WisePlay[26]</td>\n",
       "    </tr>\n",
       "    <tr>\n",
       "      <th>Device independent system updates</th>\n",
       "      <td>Partial system updates since Oreo[27] 3rd part...</td>\n",
       "      <td>Yes[29]</td>\n",
       "      <td>No</td>\n",
       "      <td>Yes</td>\n",
       "      <td>Yes[30]</td>\n",
       "      <td>Yes[32]</td>\n",
       "    </tr>\n",
       "    <tr>\n",
       "      <th>Wireless system updates</th>\n",
       "      <td>Yes</td>\n",
       "      <td>5+[33]</td>\n",
       "      <td>No</td>\n",
       "      <td>Yes</td>\n",
       "      <td>Yes</td>\n",
       "      <td>Yes</td>\n",
       "    </tr>\n",
       "    <tr>\n",
       "      <th>GPU accelerated GUI</th>\n",
       "      <td>3+[34]</td>\n",
       "      <td>Yes</td>\n",
       "      <td>Yes</td>\n",
       "      <td>Yes</td>\n",
       "      <td>Yes</td>\n",
       "      <td>Yes. Since 3.0[35]</td>\n",
       "    </tr>\n",
       "    <tr>\n",
       "      <th>Feature</th>\n",
       "      <td>Android</td>\n",
       "      <td>iOS</td>\n",
       "      <td>Tizen</td>\n",
       "      <td>Sailfish OS</td>\n",
       "      <td>Ubuntu Touch</td>\n",
       "      <td>HarmonyOS</td>\n",
       "    </tr>\n",
       "  </tbody>\n",
       "</table>\n",
       "</div>"
      ],
      "text/plain": [
       "                                                                             Android  \\\n",
       "Feature                                                                                \n",
       "Developed by                                           Google, Open Handset Alliance   \n",
       "Market share[2][3]                                                            71.90%   \n",
       "License                            Base system is free and open-source, but pract...   \n",
       "Current version                                                                   13   \n",
       "Development version                                                               14   \n",
       "Current version release dates                          August 15, 2022; 5 months ago   \n",
       "OS family                                                Modified Linux kernel based   \n",
       "Supported CPU architecture         ARM (32-bit ARMv7-A and 64-bit ARMv8-A only), ...   \n",
       "Programmed in                                                   C, C++, Java, Kotlin   \n",
       "Public issues list                                                           Yes[12]   \n",
       "DRM-free[21]                       No[22] since Android 4.1[23] and Android 4.3[2...   \n",
       "Device independent system updates  Partial system updates since Oreo[27] 3rd part...   \n",
       "Wireless system updates                                                          Yes   \n",
       "GPU accelerated GUI                                                           3+[34]   \n",
       "Feature                                                                      Android   \n",
       "\n",
       "                                                                        iOS  \\\n",
       "Feature                                                                       \n",
       "Developed by                                                     Apple Inc.   \n",
       "Market share[2][3]                                                   27.33%   \n",
       "License                            Proprietary, open source kernel and core   \n",
       "Current version                                                        16.0   \n",
       "Development version                                                    16.1   \n",
       "Current version release dates              September 12, 2022; 4 months ago   \n",
       "OS family                                                            Darwin   \n",
       "Supported CPU architecture                              64-bit ARMv8-A only   \n",
       "Programmed in                                    C, C++, Objective-C, Swift   \n",
       "Public issues list                                            3rd party[13]   \n",
       "DRM-free[21]                                                  No – FairPlay   \n",
       "Device independent system updates                                   Yes[29]   \n",
       "Wireless system updates                                              5+[33]   \n",
       "GPU accelerated GUI                                                     Yes   \n",
       "Feature                                                                 iOS   \n",
       "\n",
       "                                                                               Tizen  \\\n",
       "Feature                                                                                \n",
       "Developed by                       Linux Foundation, Tizen Association, Samsung, ...   \n",
       "Market share[2][3]                                                             0.22%   \n",
       "License                            Partial; both proprietary and open-source comp...   \n",
       "Current version                                                              4.0.0.7   \n",
       "Development version                                                           6.0 M2   \n",
       "Current version release dates                           May 30, 2020; 2 years ago[7]   \n",
       "OS family                          Linux (based on a combination of Linux MeeGo a...   \n",
       "Supported CPU architecture                                          ARM, x86, x86-64   \n",
       "Programmed in                               C++, Xamarin.Forms (.NET C#, F#, VB[10])   \n",
       "Public issues list                                                           Yes[14]   \n",
       "DRM-free[21]                                                                     Yes   \n",
       "Device independent system updates                                                 No   \n",
       "Wireless system updates                                                           No   \n",
       "GPU accelerated GUI                                                              Yes   \n",
       "Feature                                                                        Tizen   \n",
       "\n",
       "                                                                         Sailfish OS  \\\n",
       "Feature                                                                                \n",
       "Developed by                       Sailfish Alliance, Mer, Jolla and Sailfish com...   \n",
       "Market share[2][3]                                                               NaN   \n",
       "License                            Free and open-source, but the UI and the SDK a...   \n",
       "Current version                                                             4.3.0.15   \n",
       "Development version                                                          Unknown   \n",
       "Current version release dates                    February 16, 2022; 11 months ago[8]   \n",
       "OS family                                                                      Linux   \n",
       "Supported CPU architecture                                               ARM, x86-64   \n",
       "Programmed in                                                       C++, QML, Python   \n",
       "Public issues list                                                           Yes[15]   \n",
       "DRM-free[21]                                                                     Yes   \n",
       "Device independent system updates                                                Yes   \n",
       "Wireless system updates                                                          Yes   \n",
       "GPU accelerated GUI                                                              Yes   \n",
       "Feature                                                                  Sailfish OS   \n",
       "\n",
       "                                                                        Ubuntu Touch  \\\n",
       "Feature                                                                                \n",
       "Developed by                       UBports and Ubuntu community contributors (pre...   \n",
       "Market share[2][3]                                                               NaN   \n",
       "License                                      Free and open-source, mainly the GPL[6]   \n",
       "Current version                                                         16.04 OTA-22   \n",
       "Development version                                                          Unknown   \n",
       "Current version release dates                       February 18, 2022; 11 months ago   \n",
       "OS family                                                    Linux (based on Ubuntu)   \n",
       "Supported CPU architecture                                               ARM, x86-64   \n",
       "Programmed in                      Apps: HTML5, QML, Go, JavaScript, C++ System: ...   \n",
       "Public issues list                                                           Yes[16]   \n",
       "DRM-free[21]                                                                     Yes   \n",
       "Device independent system updates                                            Yes[30]   \n",
       "Wireless system updates                                                          Yes   \n",
       "GPU accelerated GUI                                                              Yes   \n",
       "Feature                                                                 Ubuntu Touch   \n",
       "\n",
       "                                                                           HarmonyOS  \n",
       "Feature                                                                               \n",
       "Developed by                                                                  Huawei  \n",
       "Market share[2][3]                                                                4%  \n",
       "License                                Proprietary except for open-source components  \n",
       "Current version                                                             3.0.0.76  \n",
       "Development version                                                            3.0.0  \n",
       "Current version release dates                            July 27, 2022; 6 months ago  \n",
       "OS family                          Unix-like (based on Linux kernel multi-kernel ...  \n",
       "Supported CPU architecture                                   64-bit ARM, x86, x86-64  \n",
       "Programmed in                      C, C++, Java (until HMOS 3.0),JavaScript, eTS ...  \n",
       "Public issues list                                                           Yes[20]  \n",
       "DRM-free[21]                                                No – Huawei WisePlay[26]  \n",
       "Device independent system updates                                            Yes[32]  \n",
       "Wireless system updates                                                          Yes  \n",
       "GPU accelerated GUI                                               Yes. Since 3.0[35]  \n",
       "Feature                                                                    HarmonyOS  "
      ]
     },
     "execution_count": 318,
     "metadata": {},
     "output_type": "execute_result"
    }
   ],
   "source": [
    "about_OS"
   ]
  },
  {
   "cell_type": "code",
   "execution_count": 319,
   "id": "e0fb63e1",
   "metadata": {},
   "outputs": [],
   "source": [
    "#rows Market share, Current version, and Supported CPU architecture from the first table in that section\n",
    "about_OS = about_OS.transpose()"
   ]
  },
  {
   "cell_type": "code",
   "execution_count": 320,
   "id": "19531a5f",
   "metadata": {},
   "outputs": [
    {
     "data": {
      "text/html": [
       "<div>\n",
       "<style scoped>\n",
       "    .dataframe tbody tr th:only-of-type {\n",
       "        vertical-align: middle;\n",
       "    }\n",
       "\n",
       "    .dataframe tbody tr th {\n",
       "        vertical-align: top;\n",
       "    }\n",
       "\n",
       "    .dataframe thead th {\n",
       "        text-align: right;\n",
       "    }\n",
       "</style>\n",
       "<table border=\"1\" class=\"dataframe\">\n",
       "  <thead>\n",
       "    <tr style=\"text-align: right;\">\n",
       "      <th>Feature</th>\n",
       "      <th>Market share[2][3]</th>\n",
       "      <th>Current version</th>\n",
       "      <th>Supported CPU architecture</th>\n",
       "    </tr>\n",
       "  </thead>\n",
       "  <tbody>\n",
       "    <tr>\n",
       "      <th>Android</th>\n",
       "      <td>71.90%</td>\n",
       "      <td>13</td>\n",
       "      <td>ARM (32-bit ARMv7-A and 64-bit ARMv8-A only), ...</td>\n",
       "    </tr>\n",
       "    <tr>\n",
       "      <th>iOS</th>\n",
       "      <td>27.33%</td>\n",
       "      <td>16.0</td>\n",
       "      <td>64-bit ARMv8-A only</td>\n",
       "    </tr>\n",
       "    <tr>\n",
       "      <th>Tizen</th>\n",
       "      <td>0.22%</td>\n",
       "      <td>4.0.0.7</td>\n",
       "      <td>ARM, x86, x86-64</td>\n",
       "    </tr>\n",
       "    <tr>\n",
       "      <th>Sailfish OS</th>\n",
       "      <td>NaN</td>\n",
       "      <td>4.3.0.15</td>\n",
       "      <td>ARM, x86-64</td>\n",
       "    </tr>\n",
       "    <tr>\n",
       "      <th>Ubuntu Touch</th>\n",
       "      <td>NaN</td>\n",
       "      <td>16.04 OTA-22</td>\n",
       "      <td>ARM, x86-64</td>\n",
       "    </tr>\n",
       "    <tr>\n",
       "      <th>HarmonyOS</th>\n",
       "      <td>4%</td>\n",
       "      <td>3.0.0.76</td>\n",
       "      <td>64-bit ARM, x86, x86-64</td>\n",
       "    </tr>\n",
       "  </tbody>\n",
       "</table>\n",
       "</div>"
      ],
      "text/plain": [
       "Feature      Market share[2][3] Current version  \\\n",
       "Android                  71.90%              13   \n",
       "iOS                      27.33%            16.0   \n",
       "Tizen                     0.22%         4.0.0.7   \n",
       "Sailfish OS                 NaN        4.3.0.15   \n",
       "Ubuntu Touch                NaN    16.04 OTA-22   \n",
       "HarmonyOS                    4%        3.0.0.76   \n",
       "\n",
       "Feature                              Supported CPU architecture  \n",
       "Android       ARM (32-bit ARMv7-A and 64-bit ARMv8-A only), ...  \n",
       "iOS                                         64-bit ARMv8-A only  \n",
       "Tizen                                          ARM, x86, x86-64  \n",
       "Sailfish OS                                         ARM, x86-64  \n",
       "Ubuntu Touch                                        ARM, x86-64  \n",
       "HarmonyOS                               64-bit ARM, x86, x86-64  "
      ]
     },
     "execution_count": 320,
     "metadata": {},
     "output_type": "execute_result"
    }
   ],
   "source": [
    "about_OS = about_OS[['Market share[2][3]', 'Current version',  'Supported CPU architecture']]\n",
    "about_OS"
   ]
  },
  {
   "cell_type": "code",
   "execution_count": 321,
   "id": "72e8a170",
   "metadata": {},
   "outputs": [
    {
     "data": {
      "text/plain": [
       "Index(['Market share[2][3]', 'Current version', 'Supported CPU architecture'], dtype='object', name='Feature')"
      ]
     },
     "execution_count": 321,
     "metadata": {},
     "output_type": "execute_result"
    }
   ],
   "source": [
    "about_OS.columns"
   ]
  },
  {
   "cell_type": "code",
   "execution_count": null,
   "id": "cf8737a1",
   "metadata": {},
   "outputs": [],
   "source": []
  },
  {
   "cell_type": "code",
   "execution_count": null,
   "id": "2d4169d8",
   "metadata": {},
   "outputs": [],
   "source": []
  },
  {
   "cell_type": "code",
   "execution_count": 322,
   "id": "5e197582",
   "metadata": {},
   "outputs": [],
   "source": [
    "# Edit weird values with maximum values in Table 1\n",
    "about_OS.rename(columns = {'Market share[2][3]':'% Market share'}, inplace = True)"
   ]
  },
  {
   "cell_type": "code",
   "execution_count": null,
   "id": "3c56f3f1",
   "metadata": {},
   "outputs": [],
   "source": []
  },
  {
   "cell_type": "code",
   "execution_count": 336,
   "id": "2f69819e",
   "metadata": {},
   "outputs": [
    {
     "data": {
      "text/html": [
       "<div>\n",
       "<style scoped>\n",
       "    .dataframe tbody tr th:only-of-type {\n",
       "        vertical-align: middle;\n",
       "    }\n",
       "\n",
       "    .dataframe tbody tr th {\n",
       "        vertical-align: top;\n",
       "    }\n",
       "\n",
       "    .dataframe thead th {\n",
       "        text-align: right;\n",
       "    }\n",
       "</style>\n",
       "<table border=\"1\" class=\"dataframe\">\n",
       "  <thead>\n",
       "    <tr style=\"text-align: right;\">\n",
       "      <th>Feature</th>\n",
       "      <th>% Market share</th>\n",
       "      <th>Current version</th>\n",
       "      <th>Supported CPU architecture</th>\n",
       "    </tr>\n",
       "  </thead>\n",
       "  <tbody>\n",
       "    <tr>\n",
       "      <th>Android</th>\n",
       "      <td>71.90</td>\n",
       "      <td>13</td>\n",
       "      <td>ARM, x86, x86-64</td>\n",
       "    </tr>\n",
       "    <tr>\n",
       "      <th>iOS</th>\n",
       "      <td>27.33</td>\n",
       "      <td>16.0</td>\n",
       "      <td>ARM</td>\n",
       "    </tr>\n",
       "    <tr>\n",
       "      <th>Tizen</th>\n",
       "      <td>0.22</td>\n",
       "      <td>4.0.0.7</td>\n",
       "      <td>ARM, x86, x86-64</td>\n",
       "    </tr>\n",
       "    <tr>\n",
       "      <th>Sailfish OS</th>\n",
       "      <td>0.00</td>\n",
       "      <td>4.3.0.15</td>\n",
       "      <td>ARM, x86-64</td>\n",
       "    </tr>\n",
       "    <tr>\n",
       "      <th>Ubuntu Touch</th>\n",
       "      <td>0.00</td>\n",
       "      <td>16.04 OTA-22</td>\n",
       "      <td>ARM, x86-64</td>\n",
       "    </tr>\n",
       "    <tr>\n",
       "      <th>HarmonyOS</th>\n",
       "      <td>4.00</td>\n",
       "      <td>3.0.0.76</td>\n",
       "      <td>64-bit ARM, x86, x86-64</td>\n",
       "    </tr>\n",
       "  </tbody>\n",
       "</table>\n",
       "</div>"
      ],
      "text/plain": [
       "Feature       % Market share Current version Supported CPU architecture\n",
       "Android                71.90              13           ARM, x86, x86-64\n",
       "iOS                    27.33            16.0                        ARM\n",
       "Tizen                   0.22         4.0.0.7           ARM, x86, x86-64\n",
       "Sailfish OS             0.00        4.3.0.15                ARM, x86-64\n",
       "Ubuntu Touch            0.00    16.04 OTA-22                ARM, x86-64\n",
       "HarmonyOS               4.00        3.0.0.76    64-bit ARM, x86, x86-64"
      ]
     },
     "execution_count": 336,
     "metadata": {},
     "output_type": "execute_result"
    }
   ],
   "source": [
    "about_OS"
   ]
  },
  {
   "cell_type": "code",
   "execution_count": 324,
   "id": "07d17f51",
   "metadata": {},
   "outputs": [],
   "source": [
    "about_OS['% Market share'] = about_OS['% Market share'].fillna(0)\n",
    "about_OS['% Market share'] = about_OS['% Market share'].replace('71.90%',71.90)\n",
    "about_OS['% Market share'] = about_OS['% Market share'].replace('27.33%',27.33) \n",
    "about_OS['% Market share'] = about_OS['% Market share'].replace('0.22%',0.22) \n",
    "about_OS['% Market share'] = about_OS['% Market share'].replace('4%',4) "
   ]
  },
  {
   "cell_type": "code",
   "execution_count": 325,
   "id": "42154459",
   "metadata": {},
   "outputs": [
    {
     "data": {
      "text/plain": [
       "'64-bit ARMv8-A only'"
      ]
     },
     "execution_count": 325,
     "metadata": {},
     "output_type": "execute_result"
    }
   ],
   "source": [
    "about_OS['Supported CPU architecture'][1]"
   ]
  },
  {
   "cell_type": "code",
   "execution_count": 326,
   "id": "b8d5ba9d",
   "metadata": {},
   "outputs": [],
   "source": [
    "about_OS[\"Supported CPU architecture\"] = about_OS[\"Supported CPU architecture\"].replace('ARM (32-bit ARMv7-A and 64-bit ARMv8-A only), x86, x86-64[9]',\n",
    "                                                                'ARM, x86, x86-64')\n"
   ]
  },
  {
   "cell_type": "code",
   "execution_count": 450,
   "id": "8aa37f45",
   "metadata": {},
   "outputs": [],
   "source": [
    "about_OS[\"Number of Supported CPU Architecture\"] = [3, 1, 3,2,2,3]"
   ]
  },
  {
   "cell_type": "code",
   "execution_count": 452,
   "id": "6cd020c9",
   "metadata": {},
   "outputs": [],
   "source": [
    "about_OS.to_csv(\"about_OS.CSV\")"
   ]
  },
  {
   "cell_type": "code",
   "execution_count": null,
   "id": "5d3162e5",
   "metadata": {
    "collapsed": true
   },
   "outputs": [],
   "source": []
  },
  {
   "cell_type": "code",
   "execution_count": null,
   "id": "337856dc",
   "metadata": {},
   "outputs": [],
   "source": []
  },
  {
   "cell_type": "code",
   "execution_count": 412,
   "id": "6f33a0ad",
   "metadata": {},
   "outputs": [],
   "source": [
    "about_OS[\"Current version\"] = about_OS[\"Current version\"].replace('4.0.0.7',4)\n",
    "about_OS[\"Current version\"] = about_OS[\"Current version\"].replace('4.3.0.15',4.3)\n",
    "about_OS[\"Current version\"] = about_OS[\"Current version\"].replace('4.3.0.15',4.3)\n",
    "about_OS[\"Current version\"] = about_OS[\"Current version\"].replace('16.04 OTA-22',16.04)\n"
   ]
  },
  {
   "cell_type": "code",
   "execution_count": 417,
   "id": "0655a7eb",
   "metadata": {},
   "outputs": [],
   "source": [
    "about_OS[\"Current version\"] = about_OS[\"Current version\"].replace('3.0.0.76',3)\n",
    "about_OS[\"Current version\"] = about_OS[\"Current version\"].astype(float)"
   ]
  },
  {
   "cell_type": "code",
   "execution_count": 418,
   "id": "b01786cf",
   "metadata": {},
   "outputs": [],
   "source": [
    "about_OS[\"Supported CPU architecture\"] = about_OS[\"Supported CPU architecture\"].replace('64-bit ARMv8-A only','ARM')"
   ]
  },
  {
   "cell_type": "code",
   "execution_count": 419,
   "id": "19501db9",
   "metadata": {},
   "outputs": [],
   "source": [
    "about_OS[\"Supported CPU architecture\"] = about_OS[\"Supported CPU architecture\"].replace('64-bit ARM, x86, x86-64','ARM, x86, x86-64')"
   ]
  },
  {
   "cell_type": "code",
   "execution_count": 420,
   "id": "ac5dbfe9",
   "metadata": {},
   "outputs": [
    {
     "data": {
      "text/plain": [
       "<AxesSubplot:>"
      ]
     },
     "execution_count": 420,
     "metadata": {},
     "output_type": "execute_result"
    },
    {
     "data": {
      "image/png": "[encoded data removed]",
      "text/plain": [
       "<Figure size 432x288 with 1 Axes>"
      ]
     },
     "metadata": {
      "needs_background": "light"
     },
     "output_type": "display_data"
    }
   ],
   "source": [
    "# about_OS['% Market share'].plot(kind = 'barh')\n",
    "from matplotlib import pyplot\n",
    "import random\n",
    "x = [{i:random.randint(1,5)} for i in range(10)]\n",
    "about_OS['% Market share'].plot(kind = 'barh', stacked=True)\n"
   ]
  },
  {
   "cell_type": "code",
   "execution_count": 422,
   "id": "29efadb9",
   "metadata": {},
   "outputs": [
    {
     "data": {
      "text/plain": [
       "<AxesSubplot:>"
      ]
     },
     "execution_count": 422,
     "metadata": {},
     "output_type": "execute_result"
    },
    {
     "data": {
      "image/png": "[encoded data removed]",
      "text/plain": [
       "<Figure size 432x288 with 1 Axes>"
      ]
     },
     "metadata": {
      "needs_background": "light"
     },
     "output_type": "display_data"
    }
   ],
   "source": [
    "about_OS['Current version'].plot(kind='bar', stacked=True, color=my_colors)"
   ]
  },
  {
   "cell_type": "code",
   "execution_count": 339,
   "id": "499bc275",
   "metadata": {},
   "outputs": [
    {
     "data": {
      "text/plain": [
       "<AxesSubplot:>"
      ]
     },
     "execution_count": 339,
     "metadata": {},
     "output_type": "execute_result"
    },
    {
     "data": {
      "image/png": "[encoded data removed]",
      "text/plain": [
       "<Figure size 432x288 with 1 Axes>"
      ]
     },
     "metadata": {
      "needs_background": "light"
     },
     "output_type": "display_data"
    }
   ],
   "source": [
    "from matplotlib import pyplot as plt\n",
    "from itertools import cycle, islice\n",
    "import pandas, numpy as np  # I find np.random.randint to be better\n",
    "\n",
    "# Make the data\n",
    "x = [{i:np.random.randint(1,5)} for i in range(10)]\n",
    "\n",
    "# Make a list by cycling through the colors you care about\n",
    "# to match the length of your data.\n",
    "my_colors = list(islice(cycle(['b', 'r', 'g', 'y', 'k']), None, len(about_OS['% Market share'])))\n",
    "\n",
    "# Specify this list of colors as the `color` option to `plot`.\n",
    "about_OS['% Market share'].plot(kind='barh', stacked=True, color=my_colors)"
   ]
  },
  {
   "cell_type": "code",
   "execution_count": null,
   "id": "0419109a",
   "metadata": {},
   "outputs": [],
   "source": [
    "# df.groupby ('course_difficulty' ) ['course_Certificate_type'].value_counts()\n",
    "df.groupby ('course_difficulty' ) ['course_Certificate_type'].value_counts()\n",
    "about_OS['Supported CPU architecture'].value_counts().plot(kind = 'barh')"
   ]
  },
  {
   "cell_type": "code",
   "execution_count": 395,
   "id": "e1f20925",
   "metadata": {},
   "outputs": [
    {
     "data": {
      "text/plain": [
       "{'Android': ['ARM', 'x86', 'x86-64'],\n",
       " 'iOS': ['ARM'],\n",
       " 'Tizen': ['ARM', 'x86', 'x86-64'],\n",
       " 'Sailfish OS': ['ARM', 'x86', 'x86-64'],\n",
       " 'Ubuntu Touch': ['ARM', 'x86', 'x86-64'],\n",
       " 'HarmonyOS': ['ARM', 'x86', 'x86-64']}"
      ]
     },
     "execution_count": 395,
     "metadata": {},
     "output_type": "execute_result"
    }
   ],
   "source": [
    "\n",
    "hashmap = {}\n",
    "for (i,d) in about_OS.iterrows():\n",
    "    hashmap[i] = []\n",
    "    \n",
    "    if 'ARM' in d['Supported CPU architecture']:\n",
    "        hashmap[i].append('ARM')\n",
    "    if 'x86' in d['Supported CPU architecture']:\n",
    "        hashmap[i].append('x86')\n",
    "    if 'x86-64' in d['Supported CPU architecture']:\n",
    "        hashmap[i].append('x86-64')\n",
    "\n",
    "\n",
    "\n",
    "#     for i in range(len(d[\"Supported CPU architecture\"])):\n",
    "#         if d[\"Supported CPU architecture\"][i] == \",\":\n",
    "#             fe += 1\n",
    "hashmap"
   ]
  },
  {
   "cell_type": "code",
   "execution_count": 411,
   "id": "ee0cfb4c",
   "metadata": {},
   "outputs": [
    {
     "data": {
      "image/png": "[encoded data removed]",
      "text/plain": [
       "<Figure size 640x480 with 1 Axes>"
      ]
     },
     "metadata": {
      "needs_background": "light"
     },
     "output_type": "display_data"
    },
    {
     "data": {
      "text/plain": [
       "[3, 1, 3, 3, 3, 3]"
      ]
     },
     "execution_count": 411,
     "metadata": {},
     "output_type": "execute_result"
    }
   ],
   "source": [
    "plt.figure(figsize=(8, 6), dpi=80)\n",
    "names = list(hashmap.keys())\n",
    "values = hashmap.values()\n",
    "lent = []\n",
    "for val in hashmap.values():\n",
    "    lent.append(len(val))\n",
    "    \n",
    "plt.bar(range(len(hashmap)), lent, tick_label=names)\n",
    "plt.show()\n",
    "lent"
   ]
  },
  {
   "cell_type": "code",
   "execution_count": 352,
   "id": "61c4bd0f",
   "metadata": {},
   "outputs": [
    {
     "data": {
      "text/plain": [
       "              Supported CPU architecture\n",
       "Android       ARM, x86, x86-64              1\n",
       "HarmonyOS     ARM, x86, x86-64              1\n",
       "Sailfish OS   ARM, x86-64                   1\n",
       "Tizen         ARM, x86, x86-64              1\n",
       "Ubuntu Touch  ARM, x86-64                   1\n",
       "iOS           ARM                           1\n",
       "Name: Supported CPU architecture, dtype: int64"
      ]
     },
     "execution_count": 352,
     "metadata": {},
     "output_type": "execute_result"
    }
   ],
   "source": [
    "about_OS.groupby(about_OS.index)['Supported CPU architecture'].value_counts()"
   ]
  },
  {
   "cell_type": "code",
   "execution_count": 426,
   "id": "6d9cd463",
   "metadata": {},
   "outputs": [
    {
     "data": {
      "text/plain": [
       "Text(0, 0.5, 'Supported CPU architecture')"
      ]
     },
     "execution_count": 426,
     "metadata": {},
     "output_type": "execute_result"
    },
    {
     "data": {
      "image/png": "[encoded data removed]",
      "text/plain": [
       "<Figure size 432x288 with 1 Axes>"
      ]
     },
     "metadata": {
      "needs_background": "light"
     },
     "output_type": "display_data"
    }
   ],
   "source": [
    "ax = about_OS['Supported CPU architecture'].value_counts().plot(kind = 'barh')\n",
    "    \n",
    "plt.xticks(rotation=45, horizontalalignment=\"center\", fontsize=14)\n",
    "plt.yticks(rotation=0, horizontalalignment=\"right\", fontsize=10)\n",
    "plt.xlabel(\"Counts\", fontsize=12)\n",
    "plt.ylabel(\"Supported CPU architecture\", fontsize=12)\n"
   ]
  },
  {
   "cell_type": "code",
   "execution_count": 341,
   "id": "ed2a297f",
   "metadata": {},
   "outputs": [
    {
     "data": {
      "text/plain": [
       "Android         ARM, x86, x86-64\n",
       "iOS                          ARM\n",
       "Tizen           ARM, x86, x86-64\n",
       "Sailfish OS          ARM, x86-64\n",
       "Ubuntu Touch         ARM, x86-64\n",
       "HarmonyOS       ARM, x86, x86-64\n",
       "Name: Supported CPU architecture, dtype: object"
      ]
     },
     "execution_count": 341,
     "metadata": {},
     "output_type": "execute_result"
    }
   ],
   "source": [
    "# about_OS['Supported CPU architecture']=about_OS['Supported CPU architecture'].astype(float)\n",
    "about_OS['Supported CPU architecture']\n"
   ]
  },
  {
   "cell_type": "code",
   "execution_count": null,
   "id": "1dd16d54",
   "metadata": {},
   "outputs": [],
   "source": [
    "sound_and_voice[\"Current version\"] = sound_and_voice[\"Current version\"].replace('4.0.0.7',4)"
   ]
  },
  {
   "cell_type": "code",
   "execution_count": 433,
   "id": "6fa60fce",
   "metadata": {},
   "outputs": [],
   "source": [
    "sound_and_voice = sound_and_voice.replace(['6+[394]', '4.1+[396]', '5+ (Siri)', 'Yes[395]', '5+ (Siri)', '15+;[397]', 'Yes[224]'],\n",
    "                                          [1,1,1,1,1,1,1])"
   ]
  },
  {
   "cell_type": "code",
   "execution_count": 435,
   "id": "af5cc497",
   "metadata": {},
   "outputs": [],
   "source": [
    "sound_and_voice = sound_and_voice.replace(['Yes[392]','?'],\n",
    "                                          [1,0])"
   ]
  },
  {
   "cell_type": "code",
   "execution_count": 437,
   "id": "efa91b49",
   "metadata": {},
   "outputs": [],
   "source": [
    "sound_and_voice = sound_and_voice.replace([\"Very limited (Doesn't work in background[398] and not voice controlled)\",'3+: Limited (Not voice controlled)[399][400]', 'Partial'],\n",
    "                                          [0.7,0.7, 0.7])"
   ]
  },
  {
   "cell_type": "code",
   "execution_count": 441,
   "id": "431015ea",
   "metadata": {},
   "outputs": [],
   "source": [
    "sound_and_voice = sound_and_voice.replace(['Disabled by default, must be interactively switched on during a call when enabled / 3rd party software[405]', '3rd party software'],[1,0.5])"
   ]
  },
  {
   "cell_type": "code",
   "execution_count": 448,
   "id": "b0733406",
   "metadata": {},
   "outputs": [
    {
     "data": {
      "text/html": [
       "<div>\n",
       "<style scoped>\n",
       "    .dataframe tbody tr th:only-of-type {\n",
       "        vertical-align: middle;\n",
       "    }\n",
       "\n",
       "    .dataframe tbody tr th {\n",
       "        vertical-align: top;\n",
       "    }\n",
       "\n",
       "    .dataframe thead th {\n",
       "        text-align: right;\n",
       "    }\n",
       "</style>\n",
       "<table border=\"1\" class=\"dataframe\">\n",
       "  <thead>\n",
       "    <tr style=\"text-align: right;\">\n",
       "      <th></th>\n",
       "      <th>Android</th>\n",
       "      <th>iOS</th>\n",
       "      <th>Tizen</th>\n",
       "      <th>Sailfish OS</th>\n",
       "      <th>Ubuntu Touch</th>\n",
       "      <th>HarmonyOS</th>\n",
       "    </tr>\n",
       "    <tr>\n",
       "      <th>Feature</th>\n",
       "      <th></th>\n",
       "      <th></th>\n",
       "      <th></th>\n",
       "      <th></th>\n",
       "      <th></th>\n",
       "      <th></th>\n",
       "    </tr>\n",
       "  </thead>\n",
       "  <tbody>\n",
       "    <tr>\n",
       "      <th>Separate volume for ringtone and media</th>\n",
       "      <td>1.0</td>\n",
       "      <td>1.0</td>\n",
       "      <td>0.0</td>\n",
       "      <td>1.0</td>\n",
       "      <td>1.0</td>\n",
       "      <td>1</td>\n",
       "    </tr>\n",
       "    <tr>\n",
       "      <th>Voice commands</th>\n",
       "      <td>1.0</td>\n",
       "      <td>1.0</td>\n",
       "      <td>0.0</td>\n",
       "      <td>0.5</td>\n",
       "      <td>0.0</td>\n",
       "      <td>1</td>\n",
       "    </tr>\n",
       "    <tr>\n",
       "      <th>Offline voice commands</th>\n",
       "      <td>1.0</td>\n",
       "      <td>1.0</td>\n",
       "      <td>0.0</td>\n",
       "      <td>0.0</td>\n",
       "      <td>0.0</td>\n",
       "      <td>0</td>\n",
       "    </tr>\n",
       "    <tr>\n",
       "      <th>Voice recognition</th>\n",
       "      <td>1.0</td>\n",
       "      <td>1.0</td>\n",
       "      <td>0.0</td>\n",
       "      <td>0.0</td>\n",
       "      <td>0.0</td>\n",
       "      <td>1</td>\n",
       "    </tr>\n",
       "    <tr>\n",
       "      <th>Offline voice recognition</th>\n",
       "      <td>1.0</td>\n",
       "      <td>1.0</td>\n",
       "      <td>0.0</td>\n",
       "      <td>0.0</td>\n",
       "      <td>0.0</td>\n",
       "      <td>1</td>\n",
       "    </tr>\n",
       "    <tr>\n",
       "      <th>Non-English voice recognition</th>\n",
       "      <td>1.0</td>\n",
       "      <td>1.0</td>\n",
       "      <td>0.0</td>\n",
       "      <td>0.0</td>\n",
       "      <td>0.0</td>\n",
       "      <td>1</td>\n",
       "    </tr>\n",
       "    <tr>\n",
       "      <th>Sound recorder</th>\n",
       "      <td>0.7</td>\n",
       "      <td>0.7</td>\n",
       "      <td>0.7</td>\n",
       "      <td>0.5</td>\n",
       "      <td>0.5</td>\n",
       "      <td>1</td>\n",
       "    </tr>\n",
       "    <tr>\n",
       "      <th>Call recorder</th>\n",
       "      <td>1.0</td>\n",
       "      <td>0.5</td>\n",
       "      <td>0.0</td>\n",
       "      <td>1.0</td>\n",
       "      <td>0.0</td>\n",
       "      <td>1</td>\n",
       "    </tr>\n",
       "    <tr>\n",
       "      <th>Sound trim</th>\n",
       "      <td>0.5</td>\n",
       "      <td>1.0</td>\n",
       "      <td>0.0</td>\n",
       "      <td>0.0</td>\n",
       "      <td>0.0</td>\n",
       "      <td>1</td>\n",
       "    </tr>\n",
       "  </tbody>\n",
       "</table>\n",
       "</div>"
      ],
      "text/plain": [
       "                                        Android  iOS  Tizen  Sailfish OS  \\\n",
       "Feature                                                                    \n",
       "Separate volume for ringtone and media      1.0  1.0    0.0          1.0   \n",
       "Voice commands                              1.0  1.0    0.0          0.5   \n",
       "Offline voice commands                      1.0  1.0    0.0          0.0   \n",
       "Voice recognition                           1.0  1.0    0.0          0.0   \n",
       "Offline voice recognition                   1.0  1.0    0.0          0.0   \n",
       "Non-English voice recognition               1.0  1.0    0.0          0.0   \n",
       "Sound recorder                              0.7  0.7    0.7          0.5   \n",
       "Call recorder                               1.0  0.5    0.0          1.0   \n",
       "Sound trim                                  0.5  1.0    0.0          0.0   \n",
       "\n",
       "                                        Ubuntu Touch  HarmonyOS  \n",
       "Feature                                                          \n",
       "Separate volume for ringtone and media           1.0          1  \n",
       "Voice commands                                   0.0          1  \n",
       "Offline voice commands                           0.0          0  \n",
       "Voice recognition                                0.0          1  \n",
       "Offline voice recognition                        0.0          1  \n",
       "Non-English voice recognition                    0.0          1  \n",
       "Sound recorder                                   0.5          1  \n",
       "Call recorder                                    0.0          1  \n",
       "Sound trim                                       0.0          1  "
      ]
     },
     "execution_count": 448,
     "metadata": {},
     "output_type": "execute_result"
    }
   ],
   "source": [
    "sound_and_voice"
   ]
  },
  {
   "cell_type": "code",
   "execution_count": 447,
   "id": "64ae4966",
   "metadata": {},
   "outputs": [],
   "source": [
    "sound_and_voice = sound_and_voice.replace(['Yes[408]', '3rd party software, such as Saera[393]' ],\n",
    "                                          [1,0.5])"
   ]
  },
  {
   "cell_type": "code",
   "execution_count": null,
   "id": "3c596385",
   "metadata": {},
   "outputs": [],
   "source": [
    "sound_and_voice = sound_and_voice.replace(['Yes, Phone by Google,[402] but also possible with 3rd party firmware[403]', 'No,[406] but 3rd party software available[407]'],\n",
    "                                          [1,0.5])"
   ]
  },
  {
   "cell_type": "code",
   "execution_count": null,
   "id": "16341c47",
   "metadata": {},
   "outputs": [],
   "source": [
    "sound_and_voice = sound_and_voice.replace(['3rd party software[401]', '3rd party software[404]','3+: Limited (Not voice controlled)[399][400]'],\n",
    "                                          [0.5,0.5, 0.5])"
   ]
  },
  {
   "cell_type": "code",
   "execution_count": 443,
   "id": "c88db1e5",
   "metadata": {},
   "outputs": [],
   "source": [
    "curr = about_OS['Current version'].to_frame()"
   ]
  },
  {
   "cell_type": "code",
   "execution_count": 76,
   "id": "5be49077",
   "metadata": {},
   "outputs": [],
   "source": [
    "curr = curr.transpose()\n"
   ]
  },
  {
   "cell_type": "code",
   "execution_count": 81,
   "id": "e43511d1",
   "metadata": {},
   "outputs": [
    {
     "ename": "SyntaxError",
     "evalue": "invalid syntax (2042740398.py, line 1)",
     "output_type": "error",
     "traceback": [
      "\u001b[0;36m  Input \u001b[0;32mIn [81]\u001b[0;36m\u001b[0m\n\u001b[0;31m    curr['Ubuntu Touch'][0].replace{('16.04 OTA-22': '16.04')}\u001b[0m\n\u001b[0m                                   ^\u001b[0m\n\u001b[0;31mSyntaxError\u001b[0m\u001b[0;31m:\u001b[0m invalid syntax\n"
     ]
    }
   ],
   "source": [
    "curr['Ubuntu Touch'][0].replace{('16.04 OTA-22': '16.04')}"
   ]
  },
  {
   "cell_type": "code",
   "execution_count": null,
   "id": "31048ad0",
   "metadata": {},
   "outputs": [],
   "source": [
    "sound_and_voice.to_csv"
   ]
  },
  {
   "cell_type": "code",
   "execution_count": null,
   "id": "3f158a7d",
   "metadata": {},
   "outputs": [],
   "source": []
  }
 ],
 "metadata": {
  "kernelspec": {
   "display_name": "Python 3 (ipykernel)",
   "language": "python",
   "name": "python3"
  },
  "language_info": {
   "codemirror_mode": {
    "name": "ipython",
    "version": 3
   },
   "file_extension": ".py",
   "mimetype": "text/x-python",
   "name": "python",
   "nbconvert_exporter": "python",
   "pygments_lexer": "ipython3",
   "version": "3.9.12"
  }
 },
 "nbformat": 4,
 "nbformat_minor": 5
}
